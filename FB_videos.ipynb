{
 "cells": [
  {
   "cell_type": "code",
   "execution_count": 9,
   "metadata": {},
   "outputs": [],
   "source": [
    "from selenium import webdriver\n",
    "from webdriver_manager.chrome import ChromeDriverManager\n",
    "from selenium.webdriver.chrome.options import Options\n",
    "from selenium.webdriver.chrome.service import Service\n",
    "from selenium.webdriver.common.by import By\n",
    "from selenium.webdriver.support.wait import WebDriverWait\n",
    "from selenium.webdriver.support import expected_conditions as EC\n",
    "from config import USERNAME, PWD, PAGE_URL, SCROLL_N\n",
    "import time\n",
    "import os"
   ]
  },
  {
   "cell_type": "code",
   "execution_count": 2,
   "metadata": {},
   "outputs": [],
   "source": [
    "if not (USERNAME and PWD and PAGE_URL):\n",
    "    raise Exception(\"Username , password or page url not set\")"
   ]
  },
  {
   "cell_type": "code",
   "execution_count": 3,
   "metadata": {},
   "outputs": [],
   "source": [
    "options = Options()\n",
    "prefs = {\"profile.default_content_setting_values.notifications\": 2}\n",
    "\n",
    "options.add_experimental_option(\"prefs\", prefs)\n",
    "options.add_experimental_option(\"detach\",True)\n",
    "\n",
    "driver = webdriver.Chrome(service=Service(ChromeDriverManager().install()),options=options)"
   ]
  },
  {
   "cell_type": "code",
   "execution_count": 4,
   "metadata": {},
   "outputs": [],
   "source": [
    "# LOGIN\n",
    "driver.get(\"http://www.facebook.com\")\n",
    "\n",
    "username = WebDriverWait(driver, 10).until(\n",
    "    EC.element_to_be_clickable((By.CSS_SELECTOR, \"input[name='email']\"))\n",
    ")\n",
    "password = WebDriverWait(driver, 10).until(\n",
    "    EC.element_to_be_clickable((By.CSS_SELECTOR, \"input[name='pass']\"))\n",
    ")\n",
    "\n",
    "username.clear()\n",
    "username.send_keys(USERNAME)\n",
    "password.clear()\n",
    "password.send_keys(PWD)\n",
    "\n",
    "button = (\n",
    "    WebDriverWait(driver, 2)\n",
    "    .until(EC.element_to_be_clickable((By.CSS_SELECTOR, \"button[type='submit']\")))\n",
    "    .click()\n",
    ")"
   ]
  },
  {
   "cell_type": "code",
   "execution_count": 11,
   "metadata": {},
   "outputs": [
    {
     "name": "stdout",
     "output_type": "stream",
     "text": [
      "scrolling\n",
      "scrolling\n",
      "scrolling\n",
      "scrolling\n",
      "scrolling\n",
      "scrolling\n",
      "scrolling\n",
      "scrolling\n",
      "scrolling\n",
      "scrolling\n",
      "scrolling\n",
      "scrolling\n",
      "scrolling\n",
      "scrolling\n",
      "scrolling\n",
      "scrolling\n",
      "scrolling\n",
      "scrolling\n",
      "scrolling\n",
      "scrolling\n",
      "scrolling\n",
      "scrolling\n",
      "scrolling\n",
      "scrolling\n",
      "scrolling\n",
      "scrolling\n",
      "scrolling\n",
      "scrolling\n",
      "scrolling\n",
      "scrolling\n"
     ]
    }
   ],
   "source": [
    "url = F\"{PAGE_URL}videos\"\n",
    "driver.get(url)\n",
    "\n",
    "for j in range(0,30 ):\n",
    "    print(\"scrolling\")\n",
    "    driver.execute_script(\"window.scrollTo(0, document.body.scrollHeight);\")\n",
    "    time.sleep(5)"
   ]
  },
  {
   "cell_type": "code",
   "execution_count": 12,
   "metadata": {},
   "outputs": [
    {
     "name": "stdout",
     "output_type": "stream",
     "text": [
      "Found 90 links to videos\n"
     ]
    }
   ],
   "source": [
    "anchors = driver.find_elements(By.TAG_NAME, \"a\")\n",
    "anchors = [a.get_attribute(\"href\") for a in anchors]\n",
    "vid_links = [a for a in anchors if str(a).startswith(f\"{PAGE_URL}videos\")]\n",
    "vid_links = list(set(vid_links))\n",
    "print(\"Found \" + str(len(vid_links)) + \" links to videos\")"
   ]
  },
  {
   "cell_type": "code",
   "execution_count": 11,
   "metadata": {},
   "outputs": [],
   "source": []
  }
 ],
 "metadata": {
  "kernelspec": {
   "display_name": "Python 3",
   "language": "python",
   "name": "python3"
  },
  "language_info": {
   "codemirror_mode": {
    "name": "ipython",
    "version": 3
   },
   "file_extension": ".py",
   "mimetype": "text/x-python",
   "name": "python",
   "nbconvert_exporter": "python",
   "pygments_lexer": "ipython3",
   "version": "3.10.11"
  }
 },
 "nbformat": 4,
 "nbformat_minor": 2
}
